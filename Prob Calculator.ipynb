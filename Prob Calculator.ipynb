{
 "cells": [
  {
   "cell_type": "markdown",
   "metadata": {},
   "source": [
    "# Calculating probabilities"
   ]
  },
  {
   "cell_type": "code",
   "execution_count": 17,
   "metadata": {},
   "outputs": [],
   "source": [
    "from poker import Range\n",
    "from poker.hand import Combo\n",
    "\n",
    "import holdem_calc\n",
    "import holdem_functions\n",
    "\n",
    "import numpy as np\n",
    "import pandas as pd\n",
    "import matplotlib.pyplot as plt\n",
    "from IPython.core.display import display, HTML\n",
    "\n",
    "\n"
   ]
  },
  {
   "cell_type": "markdown",
   "metadata": {},
   "source": [
    "# Flop"
   ]
  },
  {
   "cell_type": "code",
   "execution_count": 18,
   "metadata": {},
   "outputs": [],
   "source": [
    "hero_hand = Combo('6sJc')\n",
    "villan_hand = None\n",
    "board = []\n",
    "exact_calculation = False\n",
    "num_sims = 1\n",
    "read_from_file = False\n",
    "verbose = True\n",
    "flop = ['Kh','9c','3h']"
   ]
  },
  {
   "cell_type": "code",
   "execution_count": 19,
   "metadata": {
    "scrolled": true
   },
   "outputs": [
    {
     "data": {
      "text/plain": [
       "0.44979591836734695"
      ]
     },
     "execution_count": 19,
     "metadata": {},
     "output_type": "execute_result"
    }
   ],
   "source": [
    "\n",
    "odds = holdem_calc.calculate_odds_villan(board, exact_calculation,\n",
    "                            num_sims, read_from_file ,\n",
    "                            hero_hand, villan_hand,\n",
    "                            verbose, print_elapsed_time = False)\n",
    "odds[0]['win']"
   ]
  },
  {
   "cell_type": "code",
   "execution_count": 4,
   "metadata": {},
   "outputs": [],
   "source": [
    "villan_hand = Combo('7cAh')\n",
    "\n",
    "odds = holdem_calc.calculate_odds_villan(board, exact_calculation,\n",
    "                            num_sims, read_from_file ,\n",
    "                            hero_hand, villan_hand,\n",
    "                            verbose, print_elapsed_time = False)"
   ]
  },
  {
   "cell_type": "code",
   "execution_count": 5,
   "metadata": {},
   "outputs": [
    {
     "data": {
      "text/plain": [
       "{'tie': 0.0, 'win': 0.0, 'lose': 1.0}"
      ]
     },
     "execution_count": 5,
     "metadata": {},
     "output_type": "execute_result"
    }
   ],
   "source": [
    "odds[0]"
   ]
  },
  {
   "cell_type": "code",
   "execution_count": 6,
   "metadata": {},
   "outputs": [
    {
     "name": "stdout",
     "output_type": "stream",
     "text": [
      "Time elapsed:  0.09797477722167969\n"
     ]
    }
   ],
   "source": [
    "board = flop\n",
    "villan_hand = None\n",
    "\n",
    "odds = holdem_calc.calculate_odds_villan(board, exact_calculation,\n",
    "                            num_sims, read_from_file ,\n",
    "                            hero_hand, villan_hand,\n",
    "                            verbose, print_elapsed_time = True)"
   ]
  },
  {
   "cell_type": "code",
   "execution_count": 7,
   "metadata": {},
   "outputs": [
    {
     "data": {
      "text/plain": [
       "{'tie': 0.02682701202590194,\n",
       " 'win': 0.2839962997224792,\n",
       " 'lose': 0.6891766882516188}"
      ]
     },
     "execution_count": 7,
     "metadata": {},
     "output_type": "execute_result"
    }
   ],
   "source": [
    "odds[0]"
   ]
  },
  {
   "cell_type": "markdown",
   "metadata": {},
   "source": [
    "# Turn"
   ]
  },
  {
   "cell_type": "code",
   "execution_count": 8,
   "metadata": {},
   "outputs": [
    {
     "name": "stdout",
     "output_type": "stream",
     "text": [
      "Time elapsed:  0.0698094367980957\n"
     ]
    },
    {
     "data": {
      "text/plain": [
       "{'tie': 0.03864734299516908,\n",
       " 'win': 0.2463768115942029,\n",
       " 'lose': 0.714975845410628}"
      ]
     },
     "execution_count": 8,
     "metadata": {},
     "output_type": "execute_result"
    }
   ],
   "source": [
    "turn_card = ['7d']\n",
    "\n",
    "board = flop + turn_card\n",
    "\n",
    "odds = holdem_calc.calculate_odds_villan(board, exact_calculation,\n",
    "                            num_sims, read_from_file ,\n",
    "                            hero_hand, villan_hand,\n",
    "                            verbose, print_elapsed_time = True)\n",
    "\n",
    "odds[0]"
   ]
  },
  {
   "cell_type": "code",
   "execution_count": 9,
   "metadata": {},
   "outputs": [
    {
     "data": {
      "text/plain": [
       "['Kh', '9c', '3h', '7d']"
      ]
     },
     "metadata": {},
     "output_type": "display_data"
    },
    {
     "data": {
      "text/plain": [
       "Combo('J♣6♠')"
      ]
     },
     "execution_count": 9,
     "metadata": {},
     "output_type": "execute_result"
    }
   ],
   "source": [
    "display(board)\n",
    "hero_hand"
   ]
  },
  {
   "cell_type": "markdown",
   "metadata": {},
   "source": [
    "# River"
   ]
  },
  {
   "cell_type": "code",
   "execution_count": 10,
   "metadata": {},
   "outputs": [
    {
     "name": "stdout",
     "output_type": "stream",
     "text": [
      "Time elapsed:  0.08277750015258789\n"
     ]
    },
    {
     "data": {
      "text/plain": [
       "{'tie': 0.030303030303030304,\n",
       " 'win': 0.7070707070707071,\n",
       " 'lose': 0.26262626262626265}"
      ]
     },
     "execution_count": 10,
     "metadata": {},
     "output_type": "execute_result"
    }
   ],
   "source": [
    "river_card = ['Jd']\n",
    "\n",
    "board += river_card\n",
    "\n",
    "odds = holdem_calc.calculate_odds_villan(board, exact_calculation,\n",
    "                            num_sims, read_from_file ,\n",
    "                            hero_hand, villan_hand,\n",
    "                            verbose, print_elapsed_time = True)\n",
    "\n",
    "odds[0]\n"
   ]
  },
  {
   "cell_type": "markdown",
   "metadata": {},
   "source": [
    "# Condition for betting"
   ]
  },
  {
   "cell_type": "markdown",
   "metadata": {},
   "source": [
    "Condition for betting is $b<\\frac{pk}{1-p}$"
   ]
  },
  {
   "cell_type": "markdown",
   "metadata": {},
   "source": [
    "# Incorporating Ranges"
   ]
  },
  {
   "cell_type": "markdown",
   "metadata": {},
   "source": []
  }
 ],
 "metadata": {
  "kernelspec": {
   "display_name": "Python 3",
   "language": "python",
   "name": "python3"
  },
  "language_info": {
   "codemirror_mode": {
    "name": "ipython",
    "version": 3
   },
   "file_extension": ".py",
   "mimetype": "text/x-python",
   "name": "python",
   "nbconvert_exporter": "python",
   "pygments_lexer": "ipython3",
   "version": "3.8.5"
  }
 },
 "nbformat": 4,
 "nbformat_minor": 4
}
